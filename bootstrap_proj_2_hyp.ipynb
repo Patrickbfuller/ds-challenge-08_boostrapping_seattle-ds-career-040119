{
 "cells": [
  {
   "cell_type": "code",
   "execution_count": 3,
   "metadata": {},
   "outputs": [],
   "source": [
    "import numpy as np\n",
    "from scipy import stats \n",
    "import math\n",
    "import seaborn as sns\n",
    "import matplotlib.pyplot as plt\n",
    "import numpy as np"
   ]
  },
  {
   "cell_type": "code",
   "execution_count": 4,
   "metadata": {},
   "outputs": [],
   "source": [
    "import sqlalchemy\n",
    "from sqlalchemy import create_engine\n",
    "from sqlalchemy.orm import Session, sessionmaker"
   ]
  },
  {
   "cell_type": "code",
   "execution_count": 5,
   "metadata": {},
   "outputs": [
    {
     "name": "stdout",
     "output_type": "stream",
     "text": [
      "2019-05-08 10:36:03,901 INFO sqlalchemy.engine.base.Engine select version()\n",
      "2019-05-08 10:36:03,902 INFO sqlalchemy.engine.base.Engine {}\n",
      "2019-05-08 10:36:03,904 INFO sqlalchemy.engine.base.Engine select current_schema()\n",
      "2019-05-08 10:36:03,905 INFO sqlalchemy.engine.base.Engine {}\n",
      "2019-05-08 10:36:03,906 INFO sqlalchemy.engine.base.Engine SELECT CAST('test plain returns' AS VARCHAR(60)) AS anon_1\n",
      "2019-05-08 10:36:03,907 INFO sqlalchemy.engine.base.Engine {}\n",
      "2019-05-08 10:36:03,908 INFO sqlalchemy.engine.base.Engine SELECT CAST('test unicode returns' AS VARCHAR(60)) AS anon_1\n",
      "2019-05-08 10:36:03,908 INFO sqlalchemy.engine.base.Engine {}\n",
      "2019-05-08 10:36:03,909 INFO sqlalchemy.engine.base.Engine show standard_conforming_strings\n",
      "2019-05-08 10:36:03,910 INFO sqlalchemy.engine.base.Engine {}\n"
     ]
    }
   ],
   "source": [
    "engine = create_engine(\"postgresql:///music\", echo=True)\n",
    "Session = sessionmaker(bind=engine)\n",
    "session = Session()\n",
    "con = engine.connect()"
   ]
  },
  {
   "cell_type": "code",
   "execution_count": 20,
   "metadata": {},
   "outputs": [
    {
     "name": "stdout",
     "output_type": "stream",
     "text": [
      "2019-05-08 10:49:53,882 INFO sqlalchemy.engine.base.Engine \n",
      "    SELECT score\n",
      "    FROM reviews\n",
      "    \n",
      "2019-05-08 10:49:53,883 INFO sqlalchemy.engine.base.Engine {}\n"
     ]
    }
   ],
   "source": [
    "query = \"\"\"\n",
    "    SELECT score\n",
    "    FROM reviews\n",
    "    \"\"\"\n",
    "result = con.execute(query).fetchall()"
   ]
  },
  {
   "cell_type": "code",
   "execution_count": 22,
   "metadata": {},
   "outputs": [],
   "source": [
    "review_scores = [tup[0] for tup in result]"
   ]
  },
  {
   "cell_type": "code",
   "execution_count": 54,
   "metadata": {},
   "outputs": [
    {
     "data": {
      "text/plain": [
       "(9.3, 18393)"
      ]
     },
     "execution_count": 54,
     "metadata": {},
     "output_type": "execute_result"
    }
   ],
   "source": [
    "review_scores[0], len(review_scores)"
   ]
  },
  {
   "cell_type": "code",
   "execution_count": 60,
   "metadata": {},
   "outputs": [],
   "source": [
    "bs_samples = []\n",
    "for _ in range(1000):\n",
    "     bs_samples.append(np.random.choice(a=review_scores, size=len(review_scores)))"
   ]
  },
  {
   "cell_type": "code",
   "execution_count": 61,
   "metadata": {},
   "outputs": [],
   "source": [
    "bs_means = [np.mean(sample) for sample in bs_samples]"
   ]
  },
  {
   "cell_type": "code",
   "execution_count": 62,
   "metadata": {},
   "outputs": [
    {
     "data": {
      "text/plain": [
       "(array([ 1.,  0.,  0.,  2.,  1.,  1.,  4.,  9., 12., 19., 22., 34., 53.,\n",
       "        68., 77., 81., 74., 77., 75., 76., 85., 59., 45., 50., 21., 21.,\n",
       "        11., 12.,  5.,  5.]),\n",
       " array([6.96938509, 6.97144946, 6.97351384, 6.97557821, 6.97764258,\n",
       "        6.97970695, 6.98177133, 6.9838357 , 6.98590007, 6.98796444,\n",
       "        6.99002882, 6.99209319, 6.99415756, 6.99622193, 6.9982863 ,\n",
       "        7.00035068, 7.00241505, 7.00447942, 7.00654379, 7.00860817,\n",
       "        7.01067254, 7.01273691, 7.01480128, 7.01686566, 7.01893003,\n",
       "        7.0209944 , 7.02305877, 7.02512314, 7.02718752, 7.02925189,\n",
       "        7.03131626]),\n",
       " <a list of 30 Patch objects>)"
      ]
     },
     "execution_count": 62,
     "metadata": {},
     "output_type": "execute_result"
    },
    {
     "data": {
      "image/png": "[encoded data removed]",
      "text/plain": [
       "<Figure size 432x288 with 1 Axes>"
      ]
     },
     "metadata": {
      "needs_background": "light"
     },
     "output_type": "display_data"
    }
   ],
   "source": [
    "plt.hist(bs_means, bins=30)"
   ]
  },
  {
   "cell_type": "code",
   "execution_count": 67,
   "metadata": {},
   "outputs": [
    {
     "data": {
      "text/plain": [
       "(6.976288419507421, 7.030354901321155)"
      ]
     },
     "execution_count": 67,
     "metadata": {},
     "output_type": "execute_result"
    }
   ],
   "source": [
    "np.percentile(bs_means, .1), np.percentile(bs_means, 99.9)"
   ]
  },
  {
   "cell_type": "code",
   "execution_count": 68,
   "metadata": {},
   "outputs": [
    {
     "data": {
      "text/plain": [
       "7.005779372587398"
      ]
     },
     "execution_count": 68,
     "metadata": {},
     "output_type": "execute_result"
    }
   ],
   "source": [
    "np.mean(review_scores)"
   ]
  },
  {
   "cell_type": "code",
   "execution_count": 69,
   "metadata": {},
   "outputs": [
    {
     "data": {
      "text/plain": [
       "0.02457552873375679"
      ]
     },
     "execution_count": 69,
     "metadata": {},
     "output_type": "execute_result"
    }
   ],
   "source": [
    "np.percentile(bs_means, 99.9) - np.mean(review_scores)"
   ]
  },
  {
   "cell_type": "code",
   "execution_count": null,
   "metadata": {},
   "outputs": [],
   "source": []
  }
 ],
 "metadata": {
  "kernelspec": {
   "display_name": "learn-env",
   "language": "python",
   "name": "learn-env"
  },
  "language_info": {
   "codemirror_mode": {
    "name": "ipython",
    "version": 3
   },
   "file_extension": ".py",
   "mimetype": "text/x-python",
   "name": "python",
   "nbconvert_exporter": "python",
   "pygments_lexer": "ipython3",
   "version": "3.6.6"
  }
 },
 "nbformat": 4,
 "nbformat_minor": 2
}
